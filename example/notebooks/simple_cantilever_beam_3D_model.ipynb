{
 "cells": [
  {
   "cell_type": "markdown",
   "metadata": {},
   "source": [
    "# Simple 3D cantilever beam example \n",
    "\n",
    "This simple tutorial show the basic principle to be able to launch mechanical simulation using FEDOO on a very simple example. \n",
    "\n",
    "The beam have a square section and the dimensions : \n",
    "- Lenght = 1000mm along the $\\vec{x}$ axis, \n",
    "- Side lenght = 100mm.\n",
    "\n",
    "The beam is clamped on the left side in the section defined by $x=0$ and a displacement along $\\vec{y}$ is enforced on the right side defined by $x=1000$.\n",
    "\n",
    "### Import library"
   ]
  },
  {
   "cell_type": "code",
   "execution_count": 1,
   "metadata": {},
   "outputs": [],
   "source": [
    "from fedoo import * #Import all the fedoo library\n",
    "import numpy as np \n",
    "import time #to evaluate the computational time"
   ]
  },
  {
   "cell_type": "markdown",
   "metadata": {},
   "source": [
    "### Dimension of the problem\n",
    "\n",
    "The first step is to defined the dimension of the problem. For the simple 3D cantilever beam problem, the dimension of the problem is \"3D\"."
   ]
  },
  {
   "cell_type": "code",
   "execution_count": 2,
   "metadata": {
    "scrolled": true
   },
   "outputs": [
    {
     "name": "stdout",
     "output_type": "stream",
     "text": [
      "\n",
      "Dimension of the problem is now set on 3D\n"
     ]
    },
    {
     "data": {
      "text/plain": [
       "<fedoo.libUtil.Dimension.ProblemDimension at 0x1613cec3438>"
      ]
     },
     "execution_count": 2,
     "metadata": {},
     "output_type": "execute_result"
    }
   ],
   "source": [
    "Util.ProblemDimension(\"3D\")"
   ]
  },
  {
   "cell_type": "markdown",
   "metadata": {},
   "source": [
    "### Geometry and Mesh creation \n",
    "Create a simple 3D mesh using the BoxMesh method of the Mesh Object.\n",
    "The mesh named 'Domain' is created using $Nx = 31$ nodes along $\\vec{x}$, $Ny = Nz = 21$ nodes along $\\vec{y}$ and $\\vec{z}$.\n",
    "The element shape used for the geometric interpolation is 'hex8' (8 nodes hexaedral element)."
   ]
  },
  {
   "cell_type": "code",
   "execution_count": 3,
   "metadata": {},
   "outputs": [
    {
     "data": {
      "text/plain": [
       "<fedoo.libMesh.Mesh.Mesh at 0x1613cec3240>"
      ]
     },
     "execution_count": 3,
     "metadata": {},
     "output_type": "execute_result"
    }
   ],
   "source": [
    "meshID = \"Domain\"\n",
    "Mesh.BoxMesh(Nx=31, Ny=21, Nz=21, x_min=0, x_max=1000, \n",
    "             y_min=0, y_max=100, z_min=0, z_max=100, \n",
    "             ElementShape = 'hex8', ID = meshID)"
   ]
  },
  {
   "cell_type": "markdown",
   "metadata": {},
   "source": [
    "## Material definition\n",
    "For mechanical simulation, a material constitutive law have to be defined associated to an ID.\n",
    "In this simple problem, an elastic isotropic law named 'ElasticLaw' is defined with:\n",
    "\n",
    "- Young modulus: $E=200 \\times 10^3$ MPa\n",
    "- Poisson ratio: $\\nu = 0.3$\n",
    "\n",
    "A weak formulation of the internal force problem (mechanical equilibrium equation) is then defined.\n",
    "The internal force weak formulation without prestress and initial displacement is\n",
    "$$ \\int_\\Omega \\varepsilon(u^\\star) D \\varepsilon(u) d\\Omega = 0 $$\n",
    "where $D$ is given by the constitutive law.\n",
    "\n",
    "By default, the ID of the weak form is the same as the ID of the constitutive law, ie 'ElasticLaw'. "
   ]
  },
  {
   "cell_type": "code",
   "execution_count": 4,
   "metadata": {},
   "outputs": [
    {
     "data": {
      "text/plain": [
       "<fedoo.libWeakForm.WeakForm_InternalForce.InternalForce at 0x1613e80a4a8>"
      ]
     },
     "execution_count": 4,
     "metadata": {},
     "output_type": "execute_result"
    }
   ],
   "source": [
    "ConstitutiveLaw.ElasticIsotrop(200e3, 0.3, ID = 'ElasticLaw')\n",
    "WeakForm.InternalForce(\"ElasticLaw\")"
   ]
  },
  {
   "cell_type": "markdown",
   "metadata": {},
   "source": [
    "### Matrix assembly\n",
    "A global matrix assembly is created based on the weakform 'ElasticLaw' and with the ID 'assembling'. The global stiffness matrix is then computed. This matrix can be extracted from the assembly using the function GetMatrix."
   ]
  },
  {
   "cell_type": "code",
   "execution_count": 5,
   "metadata": {},
   "outputs": [],
   "source": [
    "Assembly.Create(\"ElasticLaw\", meshID, 'hex8', ID=\"Assembling\") \n",
    "M = Assembly.GetAll()['Assembling'].GetMatrix()"
   ]
  },
  {
   "cell_type": "markdown",
   "metadata": {},
   "source": [
    "### Definition of the problem and boundary conditions\n",
    "A static problem is then defined, ie we want to solve: \n",
    "$$ K u = F $$\n",
    "where $K$ is the stiffness matrix computed before and $F$ is the force vector related to external load. "
   ]
  },
  {
   "cell_type": "code",
   "execution_count": 6,
   "metadata": {},
   "outputs": [
    {
     "data": {
      "text/plain": [
       "<fedoo.libProblem.Problem_Static.Static.<locals>.__Static at 0x1613e80a518>"
      ]
     },
     "execution_count": 6,
     "metadata": {},
     "output_type": "execute_result"
    }
   ],
   "source": [
    "Problem.Static(\"Assembling\")"
   ]
  },
  {
   "cell_type": "markdown",
   "metadata": {},
   "source": [
    "The boundary conditions are included directly to the problem. \n",
    "We began by extrating the node set corresponding to the left and right side of the mesh.  "
   ]
  },
  {
   "cell_type": "code",
   "execution_count": 8,
   "metadata": {},
   "outputs": [],
   "source": [
    "nodes_left = Mesh.GetAll()[meshID].GetSetOfNodes(\"left\")\n",
    "nodes_right = Mesh.GetAll()[meshID].GetSetOfNodes(\"right\")\n",
    "nodes_top = Mesh.GetAll()[meshID].GetSetOfNodes(\"top\")\n",
    "nodes_bottom = Mesh.GetAll()[meshID].GetSetOfNodes(\"bottom\")"
   ]
  },
  {
   "cell_type": "markdown",
   "metadata": {},
   "source": [
    "Application of boundary condition using the BoundaryCondition method. 'Dirichlet' boundary condition (ie displacement boundary conditions) are used. The alternative is 'Neumann' boundary conditions for external force.\n",
    "It is important to use the method 'ApplyBoundaryCondition()' to include the defined boundary condition in the problem. "
   ]
  },
  {
   "cell_type": "code",
   "execution_count": 9,
   "metadata": {},
   "outputs": [],
   "source": [
    "Problem.BoundaryCondition('Dirichlet','DispX',0,nodes_left)\n",
    "Problem.BoundaryCondition('Dirichlet','DispY', 0,nodes_left)\n",
    "Problem.BoundaryCondition('Dirichlet','DispZ', 0,nodes_left)\n",
    "Problem.BoundaryCondition('Dirichlet','DispY', -10, nodes_right)\n",
    "Problem.ApplyBoundaryCondition()"
   ]
  },
  {
   "cell_type": "markdown",
   "metadata": {},
   "source": [
    "### Problem resolution\n",
    "Here the conjugate gradient method is used (solver 'CG')"
   ]
  },
  {
   "cell_type": "code",
   "execution_count": 10,
   "metadata": {},
   "outputs": [
    {
     "name": "stdout",
     "output_type": "stream",
     "text": [
      "Solving...\n",
      "Done in 2.155747413635254 seconds\n"
     ]
    }
   ],
   "source": [
    "t0 = time.time() \n",
    "Problem.SetSolver('cg')\n",
    "print('Solving...')\n",
    "Problem.Solve() \n",
    "print('Done in ' +str(time.time()-t0) + ' seconds')"
   ]
  },
  {
   "cell_type": "markdown",
   "metadata": {},
   "source": [
    "### Post-treatment\n",
    "Write a vtk file with:\n",
    "- The displacement vector\n",
    "- The strain tensor (nodal values)\n",
    "- The stress tensor (nodal values)\n",
    "- The vonMises stress\n",
    "\n",
    "Then, print the total amount of stored elastic energy."
   ]
  },
  {
   "cell_type": "code",
   "execution_count": 11,
   "metadata": {},
   "outputs": [
    {
     "ename": "NameError",
     "evalue": "name 'np' is not defined",
     "output_type": "error",
     "traceback": [
      "\u001b[1;31m---------------------------------------------------------------------------\u001b[0m",
      "\u001b[1;31mNameError\u001b[0m                                 Traceback (most recent call last)",
      "\u001b[1;32m<ipython-input-11-a201a0fe9970>\u001b[0m in \u001b[0;36m<module>\u001b[1;34m\u001b[0m\n\u001b[0;32m      1\u001b[0m \u001b[1;31m#Get the displacement vector on nodes for export to vtk\u001b[0m\u001b[1;33m\u001b[0m\u001b[1;33m\u001b[0m\u001b[1;33m\u001b[0m\u001b[0m\n\u001b[1;32m----> 2\u001b[1;33m \u001b[0mU\u001b[0m \u001b[1;33m=\u001b[0m \u001b[0mnp\u001b[0m\u001b[1;33m.\u001b[0m\u001b[0mreshape\u001b[0m\u001b[1;33m(\u001b[0m\u001b[0mProblem\u001b[0m\u001b[1;33m.\u001b[0m\u001b[0mGetDoFSolution\u001b[0m\u001b[1;33m(\u001b[0m\u001b[1;34m'all'\u001b[0m\u001b[1;33m)\u001b[0m\u001b[1;33m,\u001b[0m\u001b[1;33m(\u001b[0m\u001b[1;36m3\u001b[0m\u001b[1;33m,\u001b[0m\u001b[1;33m-\u001b[0m\u001b[1;36m1\u001b[0m\u001b[1;33m)\u001b[0m\u001b[1;33m)\u001b[0m\u001b[1;33m.\u001b[0m\u001b[0mT\u001b[0m\u001b[1;33m\u001b[0m\u001b[1;33m\u001b[0m\u001b[0m\n\u001b[0m\u001b[0;32m      3\u001b[0m \u001b[1;33m\u001b[0m\u001b[0m\n\u001b[0;32m      4\u001b[0m \u001b[1;31m#Get Strain and stress tensor\u001b[0m\u001b[1;33m\u001b[0m\u001b[1;33m\u001b[0m\u001b[1;33m\u001b[0m\u001b[0m\n\u001b[0;32m      5\u001b[0m \u001b[0mTensorStrain\u001b[0m \u001b[1;33m=\u001b[0m \u001b[0mAssembly\u001b[0m\u001b[1;33m.\u001b[0m\u001b[0mGetAll\u001b[0m\u001b[1;33m(\u001b[0m\u001b[1;33m)\u001b[0m\u001b[1;33m[\u001b[0m\u001b[1;34m'Assembling'\u001b[0m\u001b[1;33m]\u001b[0m\u001b[1;33m.\u001b[0m\u001b[0mGetStrainTensor\u001b[0m\u001b[1;33m(\u001b[0m\u001b[0mProblem\u001b[0m\u001b[1;33m.\u001b[0m\u001b[0mGetDisp\u001b[0m\u001b[1;33m(\u001b[0m\u001b[1;33m)\u001b[0m\u001b[1;33m,\u001b[0m \u001b[1;34m\"Nodal\"\u001b[0m\u001b[1;33m)\u001b[0m\u001b[1;33m\u001b[0m\u001b[1;33m\u001b[0m\u001b[0m\n",
      "\u001b[1;31mNameError\u001b[0m: name 'np' is not defined"
     ]
    }
   ],
   "source": [
    "#Get the displacement vector on nodes for export to vtk\n",
    "U = np.reshape(Problem.GetDoFSolution('all'),(3,-1)).T\n",
    "\n",
    "#Get Strain and stress tensor\n",
    "TensorStrain = Assembly.GetAll()['Assembling'].GetStrainTensor(Problem.GetDisp(), \"Nodal\")       \n",
    "TensorStress = ConstitutiveLaw.GetAll()['ElasticLaw'].GetStress(TensorStrain)\n",
    "                                                 \n",
    "#Write the vtk file                            \n",
    "OUT = Util.ExportData(meshID)\n",
    "\n",
    "OUT.addNodeData(U.astype(float),'Displacement')\n",
    "OUT.addNodeData(TensorStress.vtkFormat(),'Stress')\n",
    "OUT.addNodeData(TensorStrain.vtkFormat(),'Strain')\n",
    "OUT.addNodeData(TensorStress.vonMises(),'VMStress')\n",
    "\n",
    "OUT.toVTK(\"simple_cantilever_3D_model.vtk\")\n",
    "\n",
    "print('Elastic Energy: ' + str(Problem.GetElasticEnergy()))\n",
    "print('Result file \"simple_cantilever_3D_model.vtk\" written in the active directory')"
   ]
  },
  {
   "cell_type": "code",
   "execution_count": null,
   "metadata": {},
   "outputs": [],
   "source": []
  },
  {
   "cell_type": "code",
   "execution_count": null,
   "metadata": {},
   "outputs": [],
   "source": []
  },
  {
   "cell_type": "code",
   "execution_count": null,
   "metadata": {},
   "outputs": [],
   "source": []
  }
 ],
 "metadata": {
  "kernelspec": {
   "display_name": "Python 3",
   "language": "python",
   "name": "python3"
  },
  "language_info": {
   "codemirror_mode": {
    "name": "ipython",
    "version": 3
   },
   "file_extension": ".py",
   "mimetype": "text/x-python",
   "name": "python",
   "nbconvert_exporter": "python",
   "pygments_lexer": "ipython3",
   "version": "3.7.7"
  }
 },
 "nbformat": 4,
 "nbformat_minor": 2
}
