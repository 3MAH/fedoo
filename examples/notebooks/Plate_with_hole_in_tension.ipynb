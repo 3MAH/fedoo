{
 "cells": [
  {
   "cell_type": "markdown",
   "metadata": {},
   "source": [
    "# 2D Plate with hole in tension\n",
    "\n",
    "This simple tutorial show the basic principle to be able to launch mechanical simulation using FEDOO on a very simple example: a plate in tension with hole.\n",
    "\n",
    "\n",
    "### Import libraries"
   ]
  },
  {
   "cell_type": "code",
   "execution_count": 1,
   "metadata": {},
   "outputs": [],
   "source": [
    "from fedoo import * #Import all the fedoo library\n",
    "import numpy as np \n",
    "import time #to evaluate the computational time"
   ]
  },
  {
   "cell_type": "markdown",
   "metadata": {},
   "source": [
    "### Dimension of the problem\n",
    "\n",
    "The first step is to defined the dimension of the problem. The problem considered here is treated in 2D using the plane stress assumption. We can easily switch to plane strain assumption. "
   ]
  },
  {
   "cell_type": "code",
   "execution_count": 2,
   "metadata": {
    "scrolled": true
   },
   "outputs": [
    {
     "name": "stdout",
     "output_type": "stream",
     "text": [
      "\n",
      "Dimension of the problem is now set on 2Dstress\n"
     ]
    },
    {
     "data": {
      "text/plain": [
       "<fedoo.libUtil.Dimension.ProblemDimension at 0x14a07797a48>"
      ]
     },
     "execution_count": 2,
     "metadata": {},
     "output_type": "execute_result"
    }
   ],
   "source": [
    "Util.ProblemDimension(\"2Dstress\") #2D with plane stress assumption\n",
    "#Util.ProblemDimension(\"2Dplane\") #2D with plane strain assumption"
   ]
  },
  {
   "cell_type": "markdown",
   "metadata": {},
   "source": [
    "### Geometry and Mesh\n",
    "The geometry is imported from the file 'plate_with_hole.msh' using the ImportFromFile method of the Mesh object (static method). "
   ]
  },
  {
   "cell_type": "code",
   "execution_count": 3,
   "metadata": {},
   "outputs": [
    {
     "name": "stdout",
     "output_type": "stream",
     "text": [
      "Mesh imported: \"Domain\" with elements tri3\n"
     ]
    }
   ],
   "source": [
    "Mesh.ImportFromFile('plate_with_hole.msh', meshID = \"Domain\")\n",
    "#alternative mesh below (uncomment the line)\n",
    "#Mesh.RectangleMesh(Nx=101, Ny=101, x_min=-50, x_max=50, y_min=-50, y_max=50, ElementShape = 'tri3', ID =\"Domain\")\n",
    "type_el = Mesh.GetAll()['Domain'].GetElementShape()\n",
    "meshID = \"Domain\""
   ]
  },
  {
   "cell_type": "markdown",
   "metadata": {},
   "source": [
    "### Material definition\n",
    "For mechanical simulation, a material constitutive law have to be defined associated to an ID.\n",
    "In this simple problem, an elastic isotropic law named 'ElasticLaw' is defined with:\n",
    "\n",
    "- Young modulus: $E=100 \\times 10^3$ MPa\n",
    "- Poisson ratio: $\\nu = 0.3$\n",
    "\n",
    "A weak formulation of the internal force problem (mechanical equilibrium equation) is then defined.\n",
    "The internal force weak formulation without prestress and initial displacement is\n",
    "$$ \\int_\\Omega \\varepsilon(u^\\star) D \\varepsilon(u) d\\Omega = 0 $$\n",
    "where $D$ is given by the constitutive law.\n",
    "\n",
    "By default, the ID of the weak form is the same as the ID of the constitutive law, ie 'ElasticLaw'. "
   ]
  },
  {
   "cell_type": "code",
   "execution_count": 4,
   "metadata": {},
   "outputs": [
    {
     "data": {
      "text/plain": [
       "<fedoo.libWeakForm.WeakForm_InternalForce.InternalForce at 0x14a077ca648>"
      ]
     },
     "execution_count": 4,
     "metadata": {},
     "output_type": "execute_result"
    }
   ],
   "source": [
    "ConstitutiveLaw.ElasticIsotrop(1e5, 0.3, ID = 'ElasticLaw')\n",
    "WeakForm.InternalForce(\"ElasticLaw\")"
   ]
  },
  {
   "cell_type": "markdown",
   "metadata": {},
   "source": [
    "### Matrix assembly\n",
    "A global matrix assembly is created based on the weakform 'ElasticLaw' and with the ID 'assembling'. The global stiffness matrix is then computed. This matrix can be extracted from the assembly using the function GetMatrix."
   ]
  },
  {
   "cell_type": "code",
   "execution_count": 5,
   "metadata": {},
   "outputs": [],
   "source": [
    "Assembly.Create(\"ElasticLaw\", meshID, type_el, ID=\"Assembling\") \n",
    "M = Assembly.GetAll()['Assembling'].GetMatrix()"
   ]
  },
  {
   "cell_type": "markdown",
   "metadata": {},
   "source": [
    "### Definition of the problem and boundary conditions\n",
    "A static problem is then defined, ie we want to solve: \n",
    "$$ K u = F $$\n",
    "where $K$ is the stiffness matrix computed before and $F$ is the force vector related to external load. "
   ]
  },
  {
   "cell_type": "code",
   "execution_count": 6,
   "metadata": {},
   "outputs": [
    {
     "data": {
      "text/plain": [
       "<fedoo.libProblem.Problem_Static.Static.<locals>.__Static at 0x14a18288448>"
      ]
     },
     "execution_count": 6,
     "metadata": {},
     "output_type": "execute_result"
    }
   ],
   "source": [
    "Problem.Static(\"Assembling\")"
   ]
  },
  {
   "cell_type": "markdown",
   "metadata": {},
   "source": [
    "The boundary conditions are included directly to the problem. \n",
    "We define firstly two sets of nodes: \n",
    "- the left side (\"left\") \n",
    "- the right side (\"right\")\n",
    "For that, we use the powerfull numpy function where to find some nodes based on their coordinates. "
   ]
  },
  {
   "cell_type": "code",
   "execution_count": 7,
   "metadata": {},
   "outputs": [],
   "source": [
    "#Definition of the set of nodes for boundary conditions\n",
    "mesh = Mesh.GetAll()[meshID]\n",
    "crd = mesh.GetNodeCoordinates() \n",
    "xmax = np.max(crd[:,0]) ; xmin = np.min(crd[:,0])\n",
    "mesh.AddSetOfNodes(list(np.where(crd[:,0] == xmin)[0]), \"left\")\n",
    "mesh.AddSetOfNodes(list(np.where(crd[:,0] == xmax)[0]), \"right\")"
   ]
  },
  {
   "cell_type": "markdown",
   "metadata": {},
   "source": [
    "Application of boundary condition using the BoundaryCondition method. 'Dirichlet' boundary condition (ie displacement boundary conditions) are used. The alternative is 'Neumann' boundary conditions for external force.\n",
    "It is important to use the method 'ApplyBoundaryCondition()' to include the defined boundary condition in the problem. \n",
    "The node 0 is arbitrary bloqued along $\\vec{y}$ to avoir rigid body motion."
   ]
  },
  {
   "cell_type": "code",
   "execution_count": 8,
   "metadata": {},
   "outputs": [],
   "source": [
    "Problem.BoundaryCondition('Dirichlet','DispX',-5e-1,mesh.GetSetOfNodes(\"left\"))\n",
    "Problem.BoundaryCondition('Dirichlet','DispX', 5e-1,mesh.GetSetOfNodes(\"right\"))\n",
    "Problem.BoundaryCondition('Dirichlet','DispY',0,[0])\n",
    "Problem.ApplyBoundaryCondition()"
   ]
  },
  {
   "cell_type": "markdown",
   "metadata": {},
   "source": [
    "### Problem resolution\n",
    "Here the conjugate gradient method is used (solver 'CG')"
   ]
  },
  {
   "cell_type": "code",
   "execution_count": 9,
   "metadata": {},
   "outputs": [
    {
     "name": "stdout",
     "output_type": "stream",
     "text": [
      "Solving...\n",
      "Done in 0.0169217586517334 seconds\n"
     ]
    }
   ],
   "source": [
    "t0 = time.time() \n",
    "Problem.SetSolver('cg')\n",
    "print('Solving...')\n",
    "Problem.Solve() \n",
    "print('Done in ' +str(time.time()-t0) + ' seconds')"
   ]
  },
  {
   "cell_type": "markdown",
   "metadata": {},
   "source": [
    "### Post-treatment\n",
    "Write a vtk file with:\n",
    "- The displacement vector\n",
    "- The strain tensor (nodal and element values)\n",
    "- The stress tensor (nodal and element values)\n",
    "- The vonMises stress (nodal and element values)\n",
    "- The principal Stress (nodal values)\n",
    "- The 1st and 2nd principal Direction at nodes\n",
    "\n",
    "Then, print the total amount of stored elastic energy."
   ]
  },
  {
   "cell_type": "code",
   "execution_count": 10,
   "metadata": {},
   "outputs": [
    {
     "name": "stdout",
     "output_type": "stream",
     "text": [
      "Elastic Energy: 35617.10566901006\n",
      "Result file \"plate_with_hole_in_tension.vtk\" written in the active directory\n"
     ]
    }
   ],
   "source": [
    "#Get the stress tensor (nodal values)\n",
    "TensorStrain = Assembly.GetAll()['Assembling'].GetStrainTensor(Problem.GetDisp(), \"Nodal\")       \n",
    "TensorStress = ConstitutiveLaw.GetAll()['ElasticLaw'].GetStress(TensorStrain)\n",
    "\n",
    "#Get the stress tensor (element values)\n",
    "TensorStrainEl = Assembly.GetAll()['Assembling'].GetStrainTensor(Problem.GetDisp(), \"Element\")       \n",
    "TensorStressEl = ConstitutiveLaw.GetAll()['ElasticLaw'].GetStress(TensorStrainEl)\n",
    "\n",
    "# Get the principal directions (vectors on nodes)\n",
    "PrincipalStress, PrincipalDirection = TensorStress.GetPrincipalStress()\n",
    "\n",
    "#Get the displacement vector on nodes for export to vtk\n",
    "U = np.reshape(Problem.GetDoFSolution('all'),(2,-1)).T\n",
    "N = Mesh.GetAll()[meshID].GetNumberOfNodes()\n",
    "U = np.c_[U,np.zeros(N)]\n",
    "\n",
    "#Write the vtk file                            \n",
    "OUT = Util.ExportData(meshID)\n",
    "\n",
    "OUT.addNodeData(U,'Displacement')\n",
    "OUT.addNodeData(TensorStress.vtkFormat(),'Stress')\n",
    "OUT.addElmData(TensorStressEl.vtkFormat(),'Stress')\n",
    "OUT.addNodeData(TensorStrain.vtkFormat(),'Strain')\n",
    "OUT.addElmData(TensorStrainEl.vtkFormat(),'Strain')\n",
    "OUT.addNodeData(TensorStress.vonMises(),'VMStress')\n",
    "OUT.addElmData(TensorStressEl.vonMises(),'VMStress')\n",
    "OUT.addNodeData(PrincipalStress,'PrincipalStress')\n",
    "OUT.addNodeData(PrincipalDirection[0],'DirPrincipal1')\n",
    "OUT.addNodeData(PrincipalDirection[1],'DirPrincipal2')\n",
    "\n",
    "OUT.toVTK(\"plate_with_hole_in_tension.vtk\")\n",
    "print('Elastic Energy: ' + str(Problem.GetElasticEnergy()))\n",
    "\n",
    "print('Result file \"plate_with_hole_in_tension.vtk\" written in the active directory')"
   ]
  },
  {
   "cell_type": "code",
   "execution_count": null,
   "metadata": {},
   "outputs": [],
   "source": []
  },
  {
   "cell_type": "code",
   "execution_count": null,
   "metadata": {},
   "outputs": [],
   "source": []
  },
  {
   "cell_type": "code",
   "execution_count": null,
   "metadata": {},
   "outputs": [],
   "source": []
  },
  {
   "cell_type": "code",
   "execution_count": null,
   "metadata": {},
   "outputs": [],
   "source": []
  }
 ],
 "metadata": {
  "kernelspec": {
   "display_name": "Python 3",
   "language": "python",
   "name": "python3"
  },
  "language_info": {
   "codemirror_mode": {
    "name": "ipython",
    "version": 3
   },
   "file_extension": ".py",
   "mimetype": "text/x-python",
   "name": "python",
   "nbconvert_exporter": "python",
   "pygments_lexer": "ipython3",
   "version": "3.7.7"
  }
 },
 "nbformat": 4,
 "nbformat_minor": 2
}
